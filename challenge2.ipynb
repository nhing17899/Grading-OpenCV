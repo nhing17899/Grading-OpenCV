{
 "cells": [
  {
   "cell_type": "code",
   "execution_count": 124,
   "id": "c70d3ed6",
   "metadata": {},
   "outputs": [],
   "source": [
    "import pandas as pd\n",
    "import csv\n",
    "import cv2\n",
    "import os\n",
    "import matplotlib.pyplot as plt\n",
    "\n",
    "import numpy as np\n",
    "import cv2"
   ]
  },
  {
   "cell_type": "markdown",
   "id": "aa4ee16b",
   "metadata": {},
   "source": [
    "# Question 2 :\n",
    "## Generate student.csv"
   ]
  },
  {
   "cell_type": "code",
   "execution_count": 125,
   "id": "5a524461",
   "metadata": {},
   "outputs": [],
   "source": [
    "directory_path = []\n",
    "\n",
    "student_id = []\n",
    "sur_name = []\n",
    "first_name = []\n",
    "code = []\n",
    "\n",
    "for filename in os.listdir('Data Folder'):\n",
    "    f = os.path.join('Data Folder',filename)\n",
    "    if os.path.isfile(f) and f.endswith(\".jpg\"):\n",
    "        directory_path.append(f)\n",
    "        student_id.append(f[12:19])\n",
    "        sur_name.append(f[20:-8])\n",
    "        first_name.append(f[-8])\n",
    "        code.append(f[-6:-4])"
   ]
  },
  {
   "cell_type": "code",
   "execution_count": 126,
   "id": "b69b71f4",
   "metadata": {},
   "outputs": [],
   "source": [
    "student = open('Data Folder/student', 'w', encoding='UTF8', newline='')\n",
    "writer = csv.writer(student)\n",
    "\n",
    "writer.writerow(['StudentId', 'Surname', 'Firstname', 'Code'])\n",
    "for i in range(len(student_id)):\n",
    "    line = [student_id[i], sur_name[i], first_name[i], code[i]]\n",
    "    writer.writerow(line)\n",
    "student.close()"
   ]
  },
  {
   "cell_type": "code",
   "execution_count": 127,
   "id": "74fd89a9",
   "metadata": {},
   "outputs": [],
   "source": [
    "data = pd.read_csv('Data Folder/student', header=0, index_col=False)"
   ]
  },
  {
   "cell_type": "code",
   "execution_count": 128,
   "id": "fd7f87a5",
   "metadata": {},
   "outputs": [],
   "source": [
    "df = pd.DataFrame(data=data)"
   ]
  },
  {
   "cell_type": "code",
   "execution_count": 129,
   "id": "ab8e21b9",
   "metadata": {},
   "outputs": [
    {
     "data": {
      "text/html": [
       "<div>\n",
       "<style scoped>\n",
       "    .dataframe tbody tr th:only-of-type {\n",
       "        vertical-align: middle;\n",
       "    }\n",
       "\n",
       "    .dataframe tbody tr th {\n",
       "        vertical-align: top;\n",
       "    }\n",
       "\n",
       "    .dataframe thead th {\n",
       "        text-align: right;\n",
       "    }\n",
       "</style>\n",
       "<table border=\"1\" class=\"dataframe\">\n",
       "  <thead>\n",
       "    <tr style=\"text-align: right;\">\n",
       "      <th></th>\n",
       "      <th>StudentId</th>\n",
       "      <th>Surname</th>\n",
       "      <th>Firstname</th>\n",
       "      <th>Code</th>\n",
       "    </tr>\n",
       "  </thead>\n",
       "  <tbody>\n",
       "    <tr>\n",
       "      <th>0</th>\n",
       "      <td>2000102</td>\n",
       "      <td>NguyenVan</td>\n",
       "      <td>A</td>\n",
       "      <td>3A</td>\n",
       "    </tr>\n",
       "    <tr>\n",
       "      <th>1</th>\n",
       "      <td>2000103</td>\n",
       "      <td>NguyenVan</td>\n",
       "      <td>B</td>\n",
       "      <td>3A</td>\n",
       "    </tr>\n",
       "    <tr>\n",
       "      <th>2</th>\n",
       "      <td>2000104</td>\n",
       "      <td>NguyenVan</td>\n",
       "      <td>C</td>\n",
       "      <td>3A</td>\n",
       "    </tr>\n",
       "  </tbody>\n",
       "</table>\n",
       "</div>"
      ],
      "text/plain": [
       "   StudentId    Surname Firstname Code\n",
       "0    2000102  NguyenVan         A   3A\n",
       "1    2000103  NguyenVan         B   3A\n",
       "2    2000104  NguyenVan         C   3A"
      ]
     },
     "execution_count": 129,
     "metadata": {},
     "output_type": "execute_result"
    }
   ],
   "source": [
    "df"
   ]
  },
  {
   "cell_type": "markdown",
   "id": "34061d23",
   "metadata": {},
   "source": [
    "# Question 3 :\n",
    "## Generate the first 5 answers of one student"
   ]
  },
  {
   "cell_type": "code",
   "execution_count": 130,
   "id": "f0bc13af",
   "metadata": {},
   "outputs": [],
   "source": [
    "red = (0, 0, 255)\n",
    "black = (0, 0, 0)\n",
    "white = (255, 255, 255)"
   ]
  },
  {
   "cell_type": "code",
   "execution_count": 131,
   "id": "af7396e8",
   "metadata": {},
   "outputs": [],
   "source": [
    "def show_images(titles, images, wait=True):\n",
    "    for (title, image) in zip(titles, images):\n",
    "        cv2.imshow(title, image)\n",
    "    if wait:\n",
    "        cv2.waitKey(0)\n",
    "        cv2.destroyAllWindows()"
   ]
  },
  {
   "cell_type": "code",
   "execution_count": 132,
   "id": "412dc0b9",
   "metadata": {},
   "outputs": [],
   "source": [
    "def take_ques(x):\n",
    "    if x < 30:\n",
    "        return 0\n",
    "    elif x < 65:\n",
    "        return 1\n",
    "    elif x < 100:\n",
    "        return 2\n",
    "    elif x < 130:\n",
    "        return 3\n",
    "    else:\n",
    "        return 4"
   ]
  },
  {
   "cell_type": "code",
   "execution_count": 133,
   "id": "cef2d97b",
   "metadata": {
    "scrolled": true
   },
   "outputs": [],
   "source": [
    "# Generate answer for test\n",
    "\n",
    "img = plt.imread('Data Folder/2000102_NguyenVanA_3A.jpg')\n",
    "\n",
    "img_crop = img[120:225,90:255,:]\n",
    "\n",
    "gray_img = cv2.cvtColor(img_crop, cv2.COLOR_BGR2GRAY)\n",
    "\n",
    "contours, _ = cv2.findContours(gray_img, cv2.RETR_LIST, cv2.CHAIN_APPROX_NONE)\n",
    "\n",
    "cv2.drawContours(img_crop, contours, -1, red, 3)\n",
    "\n",
    "answer_5 = [-1]*5\n",
    "\n",
    "for cnt in contours:\n",
    "    for i in cnt:\n",
    "        x = i[0][0]\n",
    "        y = i[0][1]\n",
    "        if y < 23:\n",
    "            index = 0\n",
    "        elif y < 40:\n",
    "            index = 1\n",
    "        elif y < 58:\n",
    "            index = 2\n",
    "        elif y < 78:\n",
    "            index = 3\n",
    "        else:\n",
    "            index = 4\n",
    "        if answer_5[index] != -1: continue\n",
    "        answer_5[index] = take_ques(x)"
   ]
  },
  {
   "cell_type": "code",
   "execution_count": 134,
   "id": "8e6cb587",
   "metadata": {},
   "outputs": [],
   "source": [
    "# Generate result for test\n",
    "\n",
    "img = plt.imread('Answer Folder/3A.jpg')\n",
    "\n",
    "img_crop = img[120:225,90:255,:]\n",
    "\n",
    "gray_img = cv2.cvtColor(img_crop, cv2.COLOR_BGR2GRAY)\n",
    "\n",
    "contours, _ = cv2.findContours(gray_img, cv2.RETR_LIST, cv2.CHAIN_APPROX_NONE)\n",
    "\n",
    "cv2.drawContours(img_crop, contours, -1, red, 3)\n",
    "\n",
    "result_5 = [-1]*5\n",
    "\n",
    "for cnt in contours:\n",
    "    for i in cnt:\n",
    "        x = i[0][0]\n",
    "        y = i[0][1]\n",
    "        if y < 23:\n",
    "            index = 0\n",
    "        elif y < 40:\n",
    "            index = 1\n",
    "        elif y < 58:\n",
    "            index = 2\n",
    "        elif y < 78:\n",
    "            index = 3\n",
    "        else:\n",
    "            index = 4\n",
    "        if result_5[index] != -1: continue\n",
    "        result_5[index] = take_ques(x)"
   ]
  },
  {
   "cell_type": "code",
   "execution_count": 135,
   "id": "573569f5",
   "metadata": {},
   "outputs": [
    {
     "name": "stdout",
     "output_type": "stream",
     "text": [
      "Answer :  [0, 3, 1, 1, 4]\n",
      "Result :  [0, 2, 1, 3, 4]\n",
      "Student - NguyenVanA :  3\n"
     ]
    }
   ],
   "source": [
    "grade_5 = 0\n",
    "print('Answer : ', answer_5)\n",
    "print('Result : ', result_5)\n",
    "\n",
    "for i in range(5):\n",
    "    if answer_5[i] == result_5[i]:\n",
    "        grade_5 += 1\n",
    "print('Student - NguyenVanA : ', grade_5)"
   ]
  },
  {
   "cell_type": "raw",
   "id": "e80d3860",
   "metadata": {},
   "source": []
  },
  {
   "cell_type": "markdown",
   "id": "2ec9c9da",
   "metadata": {},
   "source": [
    "# Question 4 :\n",
    "## Generate all answers of one student"
   ]
  },
  {
   "cell_type": "code",
   "execution_count": 136,
   "id": "c8bf0b1e",
   "metadata": {},
   "outputs": [],
   "source": [
    "difficult_ques = [0]*60"
   ]
  },
  {
   "cell_type": "code",
   "execution_count": 137,
   "id": "5b3797ea",
   "metadata": {},
   "outputs": [],
   "source": [
    "def get_image_crop(img, row, col):\n",
    "    return img[(120+110*row):(225+110*row),(90+285*col):(255+285*col),:]"
   ]
  },
  {
   "cell_type": "code",
   "execution_count": 138,
   "id": "1b3591ba",
   "metadata": {},
   "outputs": [],
   "source": [
    "def get_abcde(x):\n",
    "    if x < 30:\n",
    "        return 0\n",
    "    elif x < 65:\n",
    "        return 1\n",
    "    elif x < 100:\n",
    "        return 2\n",
    "    elif x < 130:\n",
    "        return 3\n",
    "    else:\n",
    "        return 4"
   ]
  },
  {
   "cell_type": "code",
   "execution_count": 139,
   "id": "dd1424f3",
   "metadata": {},
   "outputs": [],
   "source": [
    "def get_5_answers(contours):\n",
    "    answer_5 = [-1]*5\n",
    "    for cnt in contours:\n",
    "        for i in cnt:\n",
    "            x = i[0][0]\n",
    "            y = i[0][1]\n",
    "            if y < 23:\n",
    "                index = 0\n",
    "            elif y < 40:\n",
    "                index = 1\n",
    "            elif y < 58:\n",
    "                index = 2\n",
    "            elif y < 78:\n",
    "                index = 3\n",
    "            else:\n",
    "                index = 4\n",
    "            if answer_5[index] != -1: continue\n",
    "            answer_5[index] = get_abcde(x)\n",
    "    return answer_5"
   ]
  },
  {
   "cell_type": "code",
   "execution_count": 140,
   "id": "5ce7f1bd",
   "metadata": {},
   "outputs": [],
   "source": [
    "def get_answer(img):\n",
    "    answer = []\n",
    "    for i in range(12):\n",
    "        if i < 6:\n",
    "            img_crop = get_image_crop(img, i, 0)\n",
    "        else:\n",
    "            img_crop = get_image_crop(img, i-6, 1)\n",
    "            \n",
    "        gray_img = cv2.cvtColor(img_crop, cv2.COLOR_BGR2GRAY)\n",
    "        contours, _ = cv2.findContours(gray_img, cv2.RETR_LIST, cv2.CHAIN_APPROX_NONE)\n",
    "        cv2.drawContours(img_crop, contours, -1, red, 3)\n",
    "    \n",
    "        answer_5 = get_5_answers(contours)\n",
    "        for i in answer_5:\n",
    "            answer.append(i)\n",
    "    return answer"
   ]
  },
  {
   "cell_type": "code",
   "execution_count": 141,
   "id": "3ac4fb85",
   "metadata": {},
   "outputs": [],
   "source": [
    "# Generate result for test\n",
    "img_result = plt.imread('Answer Folder/3A.jpg')\n",
    "result = get_answer(img_result)"
   ]
  },
  {
   "cell_type": "code",
   "execution_count": 142,
   "id": "71b45f74",
   "metadata": {},
   "outputs": [],
   "source": [
    "# Generate answer for test\n",
    "\n",
    "def grading_stu(path_stu_img):\n",
    "    img_answer = plt.imread(str(path_stu_img))\n",
    "    answer = get_answer(img_answer)\n",
    "\n",
    "    grade = 0\n",
    "    for i in range(60):\n",
    "        if answer[i] == result[i]:\n",
    "            grade += 1\n",
    "        else:\n",
    "            difficult_ques[i] += 1\n",
    "    return grade"
   ]
  },
  {
   "cell_type": "code",
   "execution_count": 143,
   "id": "5ba74fe9",
   "metadata": {},
   "outputs": [
    {
     "name": "stdout",
     "output_type": "stream",
     "text": [
      "Student - NguyenVanA :  15 / 60\n"
     ]
    }
   ],
   "source": [
    "print('Student - NguyenVanA : ', grading_stu('Data Folder/2000102_NguyenVanA_3A.jpg'), '/ 60')"
   ]
  },
  {
   "cell_type": "markdown",
   "id": "47263658",
   "metadata": {},
   "source": [
    "# Question 5 :\n",
    "## Generate grading.csv"
   ]
  },
  {
   "cell_type": "code",
   "execution_count": 144,
   "id": "0743859d",
   "metadata": {},
   "outputs": [],
   "source": [
    "grading = open('Data Folder/grading', 'w', encoding='UTF8', newline='')\n",
    "writer = csv.writer(grading)\n",
    "\n",
    "writer.writerow(['StudentId', 'Grade'])\n",
    "for i in range(len(student_id)):\n",
    "    line = [student_id[i]]\n",
    "    writer.writerow(line)\n",
    "grading.close()"
   ]
  },
  {
   "cell_type": "code",
   "execution_count": 145,
   "id": "230fa49c",
   "metadata": {},
   "outputs": [],
   "source": [
    "data_grade = pd.read_csv('Data Folder/grading', header=0, index_col=False)"
   ]
  },
  {
   "cell_type": "code",
   "execution_count": 146,
   "id": "763003f9",
   "metadata": {},
   "outputs": [],
   "source": [
    "df_grade = pd.DataFrame(data=data_grade)"
   ]
  },
  {
   "cell_type": "code",
   "execution_count": 147,
   "id": "341d54f8",
   "metadata": {
    "scrolled": true
   },
   "outputs": [
    {
     "data": {
      "text/html": [
       "<div>\n",
       "<style scoped>\n",
       "    .dataframe tbody tr th:only-of-type {\n",
       "        vertical-align: middle;\n",
       "    }\n",
       "\n",
       "    .dataframe tbody tr th {\n",
       "        vertical-align: top;\n",
       "    }\n",
       "\n",
       "    .dataframe thead th {\n",
       "        text-align: right;\n",
       "    }\n",
       "</style>\n",
       "<table border=\"1\" class=\"dataframe\">\n",
       "  <thead>\n",
       "    <tr style=\"text-align: right;\">\n",
       "      <th></th>\n",
       "      <th>StudentId</th>\n",
       "      <th>Grade</th>\n",
       "    </tr>\n",
       "  </thead>\n",
       "  <tbody>\n",
       "    <tr>\n",
       "      <th>0</th>\n",
       "      <td>2000102</td>\n",
       "      <td>NaN</td>\n",
       "    </tr>\n",
       "    <tr>\n",
       "      <th>1</th>\n",
       "      <td>2000103</td>\n",
       "      <td>NaN</td>\n",
       "    </tr>\n",
       "    <tr>\n",
       "      <th>2</th>\n",
       "      <td>2000104</td>\n",
       "      <td>NaN</td>\n",
       "    </tr>\n",
       "  </tbody>\n",
       "</table>\n",
       "</div>"
      ],
      "text/plain": [
       "   StudentId  Grade\n",
       "0    2000102    NaN\n",
       "1    2000103    NaN\n",
       "2    2000104    NaN"
      ]
     },
     "execution_count": 147,
     "metadata": {},
     "output_type": "execute_result"
    }
   ],
   "source": [
    "df_grade"
   ]
  },
  {
   "cell_type": "code",
   "execution_count": 148,
   "id": "ef1feb67",
   "metadata": {},
   "outputs": [],
   "source": [
    "grade_all = []\n",
    "pf_all = []\n",
    "\n",
    "#grading(path_stu_img)\n",
    "for i in directory_path:\n",
    "    file = i.replace('\\\\', '/')\n",
    "    grade = grading_stu(file)\n",
    "    if grade > 30:\n",
    "        pf_all.append('P')\n",
    "    else:\n",
    "        pf_all.append('F')\n",
    "    grade_all.append(grade)"
   ]
  },
  {
   "cell_type": "code",
   "execution_count": 149,
   "id": "2c1affde",
   "metadata": {},
   "outputs": [],
   "source": [
    "df_grade['Grade'] = grade_all"
   ]
  },
  {
   "cell_type": "code",
   "execution_count": 150,
   "id": "18a15fbc",
   "metadata": {},
   "outputs": [
    {
     "data": {
      "text/html": [
       "<div>\n",
       "<style scoped>\n",
       "    .dataframe tbody tr th:only-of-type {\n",
       "        vertical-align: middle;\n",
       "    }\n",
       "\n",
       "    .dataframe tbody tr th {\n",
       "        vertical-align: top;\n",
       "    }\n",
       "\n",
       "    .dataframe thead th {\n",
       "        text-align: right;\n",
       "    }\n",
       "</style>\n",
       "<table border=\"1\" class=\"dataframe\">\n",
       "  <thead>\n",
       "    <tr style=\"text-align: right;\">\n",
       "      <th></th>\n",
       "      <th>StudentId</th>\n",
       "      <th>Grade</th>\n",
       "    </tr>\n",
       "  </thead>\n",
       "  <tbody>\n",
       "    <tr>\n",
       "      <th>0</th>\n",
       "      <td>2000102</td>\n",
       "      <td>15</td>\n",
       "    </tr>\n",
       "    <tr>\n",
       "      <th>1</th>\n",
       "      <td>2000103</td>\n",
       "      <td>60</td>\n",
       "    </tr>\n",
       "    <tr>\n",
       "      <th>2</th>\n",
       "      <td>2000104</td>\n",
       "      <td>12</td>\n",
       "    </tr>\n",
       "  </tbody>\n",
       "</table>\n",
       "</div>"
      ],
      "text/plain": [
       "   StudentId  Grade\n",
       "0    2000102     15\n",
       "1    2000103     60\n",
       "2    2000104     12"
      ]
     },
     "execution_count": 150,
     "metadata": {},
     "output_type": "execute_result"
    }
   ],
   "source": [
    "df_grade"
   ]
  },
  {
   "cell_type": "raw",
   "id": "07eb1177",
   "metadata": {},
   "source": []
  },
  {
   "cell_type": "markdown",
   "id": "f0a3249b",
   "metadata": {},
   "source": [
    "# Question 6 :\n",
    "## Summarize 3 most difficult questions"
   ]
  },
  {
   "cell_type": "code",
   "execution_count": 151,
   "id": "d3d80ce6",
   "metadata": {},
   "outputs": [],
   "source": [
    "df_diff_ques = pd.DataFrame(columns=[\"Ques\", \"Num of false\"])\n",
    "df_diff_ques[\"Ques\"] = [i for i in range(1,61)]\n",
    "df_diff_ques[\"Num of false\"] = difficult_ques"
   ]
  },
  {
   "cell_type": "code",
   "execution_count": 152,
   "id": "688e5e90",
   "metadata": {},
   "outputs": [
    {
     "name": "stdout",
     "output_type": "stream",
     "text": [
      "3 questions are most difficult: \n"
     ]
    },
    {
     "data": {
      "text/html": [
       "<div>\n",
       "<style scoped>\n",
       "    .dataframe tbody tr th:only-of-type {\n",
       "        vertical-align: middle;\n",
       "    }\n",
       "\n",
       "    .dataframe tbody tr th {\n",
       "        vertical-align: top;\n",
       "    }\n",
       "\n",
       "    .dataframe thead th {\n",
       "        text-align: right;\n",
       "    }\n",
       "</style>\n",
       "<table border=\"1\" class=\"dataframe\">\n",
       "  <thead>\n",
       "    <tr style=\"text-align: right;\">\n",
       "      <th></th>\n",
       "      <th>Ques</th>\n",
       "      <th>Num of false</th>\n",
       "    </tr>\n",
       "  </thead>\n",
       "  <tbody>\n",
       "    <tr>\n",
       "      <th>3</th>\n",
       "      <td>4</td>\n",
       "      <td>3</td>\n",
       "    </tr>\n",
       "    <tr>\n",
       "      <th>5</th>\n",
       "      <td>6</td>\n",
       "      <td>3</td>\n",
       "    </tr>\n",
       "    <tr>\n",
       "      <th>7</th>\n",
       "      <td>8</td>\n",
       "      <td>3</td>\n",
       "    </tr>\n",
       "  </tbody>\n",
       "</table>\n",
       "</div>"
      ],
      "text/plain": [
       "   Ques  Num of false\n",
       "3     4             3\n",
       "5     6             3\n",
       "7     8             3"
      ]
     },
     "execution_count": 152,
     "metadata": {},
     "output_type": "execute_result"
    }
   ],
   "source": [
    "print('3 questions are most difficult: ')\n",
    "df_diff_ques.nlargest(3, 'Num of false')"
   ]
  },
  {
   "cell_type": "raw",
   "id": "c23a49e9",
   "metadata": {},
   "source": []
  },
  {
   "cell_type": "markdown",
   "id": "70866a09",
   "metadata": {},
   "source": [
    "# Question 7 :\n",
    "## Generate pass / fail"
   ]
  },
  {
   "cell_type": "code",
   "execution_count": 153,
   "id": "93c619c7",
   "metadata": {},
   "outputs": [],
   "source": [
    "df_grade[\"P/F\"] = pf_all"
   ]
  },
  {
   "cell_type": "code",
   "execution_count": 154,
   "id": "1e3c815b",
   "metadata": {},
   "outputs": [
    {
     "data": {
      "text/html": [
       "<div>\n",
       "<style scoped>\n",
       "    .dataframe tbody tr th:only-of-type {\n",
       "        vertical-align: middle;\n",
       "    }\n",
       "\n",
       "    .dataframe tbody tr th {\n",
       "        vertical-align: top;\n",
       "    }\n",
       "\n",
       "    .dataframe thead th {\n",
       "        text-align: right;\n",
       "    }\n",
       "</style>\n",
       "<table border=\"1\" class=\"dataframe\">\n",
       "  <thead>\n",
       "    <tr style=\"text-align: right;\">\n",
       "      <th></th>\n",
       "      <th>StudentId</th>\n",
       "      <th>Grade</th>\n",
       "      <th>P/F</th>\n",
       "    </tr>\n",
       "  </thead>\n",
       "  <tbody>\n",
       "    <tr>\n",
       "      <th>0</th>\n",
       "      <td>2000102</td>\n",
       "      <td>15</td>\n",
       "      <td>F</td>\n",
       "    </tr>\n",
       "    <tr>\n",
       "      <th>1</th>\n",
       "      <td>2000103</td>\n",
       "      <td>60</td>\n",
       "      <td>P</td>\n",
       "    </tr>\n",
       "    <tr>\n",
       "      <th>2</th>\n",
       "      <td>2000104</td>\n",
       "      <td>12</td>\n",
       "      <td>F</td>\n",
       "    </tr>\n",
       "  </tbody>\n",
       "</table>\n",
       "</div>"
      ],
      "text/plain": [
       "   StudentId  Grade P/F\n",
       "0    2000102     15   F\n",
       "1    2000103     60   P\n",
       "2    2000104     12   F"
      ]
     },
     "execution_count": 154,
     "metadata": {},
     "output_type": "execute_result"
    }
   ],
   "source": [
    "df_grade"
   ]
  },
  {
   "cell_type": "code",
   "execution_count": null,
   "id": "60a47afa",
   "metadata": {},
   "outputs": [],
   "source": []
  }
 ],
 "metadata": {
  "kernelspec": {
   "display_name": "Python 3",
   "language": "python",
   "name": "python3"
  },
  "language_info": {
   "codemirror_mode": {
    "name": "ipython",
    "version": 3
   },
   "file_extension": ".py",
   "mimetype": "text/x-python",
   "name": "python",
   "nbconvert_exporter": "python",
   "pygments_lexer": "ipython3",
   "version": "3.8.8"
  },
  "widgets": {
   "application/vnd.jupyter.widget-state+json": {
    "state": {},
    "version_major": 2,
    "version_minor": 0
   }
  }
 },
 "nbformat": 4,
 "nbformat_minor": 5
}
